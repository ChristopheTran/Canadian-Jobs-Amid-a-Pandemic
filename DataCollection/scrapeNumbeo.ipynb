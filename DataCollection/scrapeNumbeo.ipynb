{
  "nbformat": 4,
  "nbformat_minor": 0,
  "metadata": {
    "colab": {
      "name": "scrapeNumbeo.ipynb",
      "provenance": []
    },
    "kernelspec": {
      "name": "python3",
      "display_name": "Python 3"
    },
    "language_info": {
      "name": "python"
    }
  },
  "cells": [
    {
      "cell_type": "code",
      "metadata": {
        "colab": {
          "base_uri": "https://localhost:8080/"
        },
        "id": "WzW1WVlBG6U2",
        "outputId": "f5c43bdd-a067-48cf-97ef-5b62f078ef17"
      },
      "source": [
        "%pip install bs4\n",
        "%pip install requests\n",
        "%pip install lxml\n",
        "%pip install pandas"
      ],
      "execution_count": 1,
      "outputs": [
        {
          "output_type": "stream",
          "text": [
            "Requirement already satisfied: bs4 in /usr/local/lib/python3.7/dist-packages (0.0.1)\n",
            "Requirement already satisfied: beautifulsoup4 in /usr/local/lib/python3.7/dist-packages (from bs4) (4.6.3)\n",
            "Requirement already satisfied: requests in /usr/local/lib/python3.7/dist-packages (2.23.0)\n",
            "Requirement already satisfied: certifi>=2017.4.17 in /usr/local/lib/python3.7/dist-packages (from requests) (2020.12.5)\n",
            "Requirement already satisfied: idna<3,>=2.5 in /usr/local/lib/python3.7/dist-packages (from requests) (2.10)\n",
            "Requirement already satisfied: urllib3!=1.25.0,!=1.25.1,<1.26,>=1.21.1 in /usr/local/lib/python3.7/dist-packages (from requests) (1.24.3)\n",
            "Requirement already satisfied: chardet<4,>=3.0.2 in /usr/local/lib/python3.7/dist-packages (from requests) (3.0.4)\n",
            "Requirement already satisfied: lxml in /usr/local/lib/python3.7/dist-packages (4.2.6)\n",
            "Requirement already satisfied: pandas in /usr/local/lib/python3.7/dist-packages (1.1.5)\n",
            "Requirement already satisfied: python-dateutil>=2.7.3 in /usr/local/lib/python3.7/dist-packages (from pandas) (2.8.1)\n",
            "Requirement already satisfied: numpy>=1.15.4 in /usr/local/lib/python3.7/dist-packages (from pandas) (1.19.5)\n",
            "Requirement already satisfied: pytz>=2017.2 in /usr/local/lib/python3.7/dist-packages (from pandas) (2018.9)\n",
            "Requirement already satisfied: six>=1.5 in /usr/local/lib/python3.7/dist-packages (from python-dateutil>=2.7.3->pandas) (1.15.0)\n"
          ],
          "name": "stdout"
        }
      ]
    },
    {
      "cell_type": "code",
      "metadata": {
        "id": "JbDr-i5hHExB"
      },
      "source": [
        "from bs4 import BeautifulSoup\n",
        "import requests\n",
        "import pandas as pd "
      ],
      "execution_count": 2,
      "outputs": []
    },
    {
      "cell_type": "code",
      "metadata": {
        "id": "xR43ch-Gmffz",
        "colab": {
          "base_uri": "https://localhost:8080/"
        },
        "outputId": "2aa1e31b-4cba-4133-d4be-22fd1f629d21"
      },
      "source": [
        "def get_data(key,url):\n",
        "  html_text = requests.get(url).text\n",
        "  soup = BeautifulSoup(html_text, 'lxml')\n",
        "  table_data = soup.find('table', id = 't2')\n",
        "\n",
        "  headers = table_data.find('thead')\n",
        "  colNamesHTML = headers.find_all('div')\n",
        "  headers_list = []\n",
        "  for headerName in colNamesHTML:\n",
        "    headers_list.append(headerName.text)\n",
        "\n",
        "\n",
        "  row_data = table_data.find_all('tr')\n",
        "\n",
        "  array_2d = []\n",
        "  for data in row_data:\n",
        "    content = data.find_all('td')\n",
        "    vals = []\n",
        "    for values in content:\n",
        "      vals.append(values.text)\n",
        "\n",
        "    array_2d.append(vals)\n",
        "\n",
        "  array_2d.pop(0) # Remove an empty list that always appears \n",
        "  #print(array_2d)\n",
        "\n",
        "  df = pd.DataFrame(array_2d, columns = headers_list) \n",
        "  #df\n",
        "  # Save to CSV\n",
        "  df.to_csv(key + '.csv', index = False)\n",
        "  print('Data saved to: ' + key +'.csv')\n",
        "\n",
        "\n",
        "urls = {\n",
        "        'CostofLiving': 'https://www.numbeo.com/cost-of-living/country_result.jsp?country=Canada',\n",
        "        'PropertyPrices': 'https://www.numbeo.com/property-investment/country_result.jsp?country=Canada',\n",
        "        'HealthCare': 'https://www.numbeo.com/health-care/country_result.jsp?country=Canada',\n",
        "        'Traffic': 'https://www.numbeo.com/traffic/country_result.jsp?country=Canada',\n",
        "        'Quality of Life': 'https://www.numbeo.com/quality-of-life/country_result.jsp?country=Canada',\n",
        "        'Crime': 'https://www.numbeo.com/crime/country_result.jsp?country=Canada'\n",
        "\n",
        "}\n",
        "\n",
        "for key in urls:\n",
        "  get_data(key, urls[key])\n"
      ],
      "execution_count": 6,
      "outputs": [
        {
          "output_type": "stream",
          "text": [
            "Data saved to: CostofLiving.csv\n",
            "Data saved to: PropertyPrices.csv\n",
            "Data saved to: HealthCare.csv\n",
            "Data saved to: Traffic.csv\n",
            "Data saved to: Quality of Life.csv\n",
            "Data saved to: Crime.csv\n"
          ],
          "name": "stdout"
        }
      ]
    }
  ]
}